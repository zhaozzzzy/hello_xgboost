{
 "cells": [
  {
   "cell_type": "code",
   "execution_count": null,
   "metadata": {
    "collapsed": true
   },
   "outputs": [],
   "source": []
  },
  {
   "cell_type": "code",
   "execution_count": 1,
   "outputs": [],
   "source": [
    "from sklearn import preprocessing\n",
    "from sklearn.preprocessing import LabelEncoder\n",
    "from xgboost.sklearn import XGBRegressor\n",
    "from xgboost import plot_importance\n",
    "import matplotlib.pyplot as plt\n",
    "from sklearn.model_selection import train_test_split\n",
    "import pandas as pd\n",
    "import numpy as np"
   ],
   "metadata": {
    "collapsed": false
   }
  },
  {
   "cell_type": "code",
   "execution_count": 5,
   "outputs": [
    {
     "name": "stderr",
     "output_type": "stream",
     "text": [
      "C:\\Users\\12819\\AppData\\Local\\Temp\\ipykernel_14208\\449289072.py:4: SettingWithCopyWarning: \n",
      "A value is trying to be set on a copy of a slice from a DataFrame.\n",
      "Try using .loc[row_indexer,col_indexer] = value instead\n",
      "\n",
      "See the caveats in the documentation: https://pandas.pydata.org/pandas-docs/stable/user_guide/indexing.html#returning-a-view-versus-a-copy\n",
      "  data['vehicleType'] = class_le.fit_transform(data['vehicleType'])\n"
     ]
    }
   ],
   "source": [
    "df = pd.read_csv(\"../data/vehiclemonitorinfo.csv\")\n",
    "class_le = LabelEncoder()\n",
    "data = df[[\"vehicleType\",\"vehicleSpeed\",\"vehicleCoor1\",\"vehicleCoor2\",\"conflictX\",\"conflictY\",\"recordTime\"]]\n",
    "data['vehicleType'] = class_le.fit_transform(data['vehicleType'])"
   ],
   "metadata": {
    "collapsed": false
   }
  },
  {
   "cell_type": "code",
   "execution_count": 6,
   "outputs": [
    {
     "data": {
      "text/plain": "     vehicleType  vehicleSpeed  vehicleCoor1  vehicleCoor2  conflictX  \\\n0              0          0.00       2199.89       2984.18    2104.85   \n1              0          1.30       2199.14       2983.24    2104.85   \n2              0          2.96       2197.44       2981.10    2104.85   \n3              0          4.93       2194.61       2977.54    2104.85   \n4              0          6.84       2190.68       2972.60    2104.85   \n..           ...           ...           ...           ...        ...   \n163            1         12.26       1224.60       1747.54    1196.23   \n164            1         11.92       1216.10       1736.83    1196.23   \n165            1         12.07       1205.36       1723.29    1196.23   \n166            1         12.01       1200.77       1717.51    1196.23   \n167            1         11.88       1196.23       1711.79    1196.23   \n\n     conflictY  recordTime  \n0      2864.57       50.00  \n1      2864.57       45.00  \n2      2864.57       41.00  \n3      2864.57       38.00  \n4      2864.57       35.00  \n..         ...         ...  \n163    1711.79      267.33  \n164    1711.79      264.67  \n165    1711.79      262.00  \n166    1711.79      259.33  \n167    1711.79      256.67  \n\n[168 rows x 7 columns]",
      "text/html": "<div>\n<style scoped>\n    .dataframe tbody tr th:only-of-type {\n        vertical-align: middle;\n    }\n\n    .dataframe tbody tr th {\n        vertical-align: top;\n    }\n\n    .dataframe thead th {\n        text-align: right;\n    }\n</style>\n<table border=\"1\" class=\"dataframe\">\n  <thead>\n    <tr style=\"text-align: right;\">\n      <th></th>\n      <th>vehicleType</th>\n      <th>vehicleSpeed</th>\n      <th>vehicleCoor1</th>\n      <th>vehicleCoor2</th>\n      <th>conflictX</th>\n      <th>conflictY</th>\n      <th>recordTime</th>\n    </tr>\n  </thead>\n  <tbody>\n    <tr>\n      <th>0</th>\n      <td>0</td>\n      <td>0.00</td>\n      <td>2199.89</td>\n      <td>2984.18</td>\n      <td>2104.85</td>\n      <td>2864.57</td>\n      <td>50.00</td>\n    </tr>\n    <tr>\n      <th>1</th>\n      <td>0</td>\n      <td>1.30</td>\n      <td>2199.14</td>\n      <td>2983.24</td>\n      <td>2104.85</td>\n      <td>2864.57</td>\n      <td>45.00</td>\n    </tr>\n    <tr>\n      <th>2</th>\n      <td>0</td>\n      <td>2.96</td>\n      <td>2197.44</td>\n      <td>2981.10</td>\n      <td>2104.85</td>\n      <td>2864.57</td>\n      <td>41.00</td>\n    </tr>\n    <tr>\n      <th>3</th>\n      <td>0</td>\n      <td>4.93</td>\n      <td>2194.61</td>\n      <td>2977.54</td>\n      <td>2104.85</td>\n      <td>2864.57</td>\n      <td>38.00</td>\n    </tr>\n    <tr>\n      <th>4</th>\n      <td>0</td>\n      <td>6.84</td>\n      <td>2190.68</td>\n      <td>2972.60</td>\n      <td>2104.85</td>\n      <td>2864.57</td>\n      <td>35.00</td>\n    </tr>\n    <tr>\n      <th>...</th>\n      <td>...</td>\n      <td>...</td>\n      <td>...</td>\n      <td>...</td>\n      <td>...</td>\n      <td>...</td>\n      <td>...</td>\n    </tr>\n    <tr>\n      <th>163</th>\n      <td>1</td>\n      <td>12.26</td>\n      <td>1224.60</td>\n      <td>1747.54</td>\n      <td>1196.23</td>\n      <td>1711.79</td>\n      <td>267.33</td>\n    </tr>\n    <tr>\n      <th>164</th>\n      <td>1</td>\n      <td>11.92</td>\n      <td>1216.10</td>\n      <td>1736.83</td>\n      <td>1196.23</td>\n      <td>1711.79</td>\n      <td>264.67</td>\n    </tr>\n    <tr>\n      <th>165</th>\n      <td>1</td>\n      <td>12.07</td>\n      <td>1205.36</td>\n      <td>1723.29</td>\n      <td>1196.23</td>\n      <td>1711.79</td>\n      <td>262.00</td>\n    </tr>\n    <tr>\n      <th>166</th>\n      <td>1</td>\n      <td>12.01</td>\n      <td>1200.77</td>\n      <td>1717.51</td>\n      <td>1196.23</td>\n      <td>1711.79</td>\n      <td>259.33</td>\n    </tr>\n    <tr>\n      <th>167</th>\n      <td>1</td>\n      <td>11.88</td>\n      <td>1196.23</td>\n      <td>1711.79</td>\n      <td>1196.23</td>\n      <td>1711.79</td>\n      <td>256.67</td>\n    </tr>\n  </tbody>\n</table>\n<p>168 rows × 7 columns</p>\n</div>"
     },
     "execution_count": 6,
     "metadata": {},
     "output_type": "execute_result"
    }
   ],
   "source": [
    "data"
   ],
   "metadata": {
    "collapsed": false
   }
  },
  {
   "cell_type": "code",
   "execution_count": 7,
   "outputs": [],
   "source": [
    "X = data[[\"vehicleType\",\"vehicleSpeed\",\"vehicleCoor1\",\"vehicleCoor2\",\"conflictX\",\"conflictY\"]].values\n",
    "y = data[[\"recordTime\"]].values"
   ],
   "metadata": {
    "collapsed": false
   }
  },
  {
   "cell_type": "code",
   "execution_count": 8,
   "outputs": [
    {
     "data": {
      "text/plain": "array([['clean', 0.0, 2199.89, 2984.18, 2104.85, 2864.57],\n       ['clean', 1.3, 2199.14, 2983.24, 2104.85, 2864.57],\n       ['clean', 2.96, 2197.44, 2981.1, 2104.85, 2864.57],\n       ...,\n       ['oil', 12.07, 1205.36, 1723.29, 1196.23, 1711.79],\n       ['oil', 12.01, 1200.77, 1717.51, 1196.23, 1711.79],\n       ['oil', 11.88, 1196.23, 1711.79, 1196.23, 1711.79]], dtype=object)"
     },
     "execution_count": 8,
     "metadata": {},
     "output_type": "execute_result"
    }
   ],
   "source": [
    "X"
   ],
   "metadata": {
    "collapsed": false
   }
  },
  {
   "cell_type": "code",
   "execution_count": null,
   "outputs": [],
   "source": [
    "from sklearn.metrics import mean_squared_error\n",
    "\n",
    "x_train, x_test, y_train, y_test = train_test_split(X, y,\n",
    "                                                        test_size=0.2,\n",
    "                                                        random_state=0)\n",
    "    xgb_model = XGBRegressor()\n",
    "    xgb_model.fit(x_train, y_train)\n",
    "    y_pred = xgb_model.predict(x_test)\n",
    "    print('MSE为：', mean_squared_error(y_test.reshape(1,-1), y_pred))"
   ],
   "metadata": {
    "collapsed": false
   }
  }
 ],
 "metadata": {
  "kernelspec": {
   "display_name": "Python 3",
   "language": "python",
   "name": "python3"
  },
  "language_info": {
   "codemirror_mode": {
    "name": "ipython",
    "version": 2
   },
   "file_extension": ".py",
   "mimetype": "text/x-python",
   "name": "python",
   "nbconvert_exporter": "python",
   "pygments_lexer": "ipython2",
   "version": "2.7.6"
  }
 },
 "nbformat": 4,
 "nbformat_minor": 0
}
